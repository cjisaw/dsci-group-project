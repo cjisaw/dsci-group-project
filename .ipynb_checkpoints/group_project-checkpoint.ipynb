{
 "cells": [
  {
   "cell_type": "markdown",
   "id": "5dfaebe4-ff7d-4c59-ac8e-57ed10c9ce14",
   "metadata": {},
   "source": [
    "The start of our group project!"
   ]
  },
  {
   "cell_type": "markdown",
   "id": "353b52f1-96d3-41ad-a2d0-b391cac538ea",
   "metadata": {},
   "source": [
    "senond test of add, commit, and push."
   ]
  },
  {
   "cell_type": "markdown",
   "id": "20ae471b-05ad-4da6-8d1d-90b585a83943",
   "metadata": {},
   "source": [
    "hello testing"
   ]
  },
  {
   "cell_type": "markdown",
   "id": "5d026335-1f16-424e-a54f-8d56340fde16",
   "metadata": {},
   "source": [
    "testing again"
   ]
  },
  {
   "cell_type": "code",
   "execution_count": null,
   "id": "e837d407-7617-4e4d-8310-1af6034e19f3",
   "metadata": {},
   "outputs": [],
   "source": []
  }
 ],
 "metadata": {
  "kernelspec": {
   "display_name": "R",
   "language": "R",
   "name": "ir"
  },
  "language_info": {
   "codemirror_mode": "r",
   "file_extension": ".r",
   "mimetype": "text/x-r-source",
   "name": "R",
   "pygments_lexer": "r",
   "version": "4.3.1"
  }
 },
 "nbformat": 4,
 "nbformat_minor": 5
}
