{
 "cells": [
  {
   "cell_type": "markdown",
   "id": "5dfaebe4-ff7d-4c59-ac8e-57ed10c9ce14",
   "metadata": {},
   "source": [
    "The start of our group project!"
   ]
  },
  {
   "cell_type": "code",
   "execution_count": null,
   "id": "46662f34-350f-4a04-b2a6-6175350d8280",
   "metadata": {},
   "outputs": [],
   "source": []
  }
 ],
 "metadata": {
  "kernelspec": {
   "display_name": "R",
   "language": "R",
   "name": "ir"
  },
  "language_info": {
   "codemirror_mode": "r",
   "file_extension": ".r",
   "mimetype": "text/x-r-source",
   "name": "R",
   "pygments_lexer": "r",
   "version": "4.3.1"
  }
 },
 "nbformat": 4,
 "nbformat_minor": 5
}
