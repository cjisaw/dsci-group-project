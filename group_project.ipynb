{
 "cells": [
  {
   "cell_type": "code",
   "execution_count": 1,
   "id": "4127e975-c644-4277-a9b4-8b9a928a8bdf",
   "metadata": {},
   "outputs": [
    {
     "name": "stderr",
     "output_type": "stream",
     "text": [
      "\n",
      "Attaching package: ‘dplyr’\n",
      "\n",
      "\n",
      "The following objects are masked from ‘package:stats’:\n",
      "\n",
      "    filter, lag\n",
      "\n",
      "\n",
      "The following objects are masked from ‘package:base’:\n",
      "\n",
      "    intersect, setdiff, setequal, union\n",
      "\n",
      "\n",
      "── \u001b[1mAttaching core tidyverse packages\u001b[22m ──────────────────────── tidyverse 2.0.0 ──\n",
      "\u001b[32m✔\u001b[39m \u001b[34mforcats  \u001b[39m 1.0.0     \u001b[32m✔\u001b[39m \u001b[34mreadr    \u001b[39m 2.1.4\n",
      "\u001b[32m✔\u001b[39m \u001b[34mggplot2  \u001b[39m 3.4.4     \u001b[32m✔\u001b[39m \u001b[34mstringr  \u001b[39m 1.5.0\n",
      "\u001b[32m✔\u001b[39m \u001b[34mlubridate\u001b[39m 1.9.3     \u001b[32m✔\u001b[39m \u001b[34mtibble   \u001b[39m 3.2.1\n",
      "\u001b[32m✔\u001b[39m \u001b[34mpurrr    \u001b[39m 1.0.2     \n",
      "── \u001b[1mConflicts\u001b[22m ────────────────────────────────────────── tidyverse_conflicts() ──\n",
      "\u001b[31m✖\u001b[39m \u001b[34mdplyr\u001b[39m::\u001b[32mfilter()\u001b[39m masks \u001b[34mstats\u001b[39m::filter()\n",
      "\u001b[31m✖\u001b[39m \u001b[34mdplyr\u001b[39m::\u001b[32mlag()\u001b[39m    masks \u001b[34mstats\u001b[39m::lag()\n",
      "\u001b[36mℹ\u001b[39m Use the conflicted package (\u001b[3m\u001b[34m<http://conflicted.r-lib.org/>\u001b[39m\u001b[23m) to force all conflicts to become errors\n",
      "── \u001b[1mAttaching packages\u001b[22m ────────────────────────────────────── tidymodels 1.1.1 ──\n",
      "\n",
      "\u001b[32m✔\u001b[39m \u001b[34mbroom       \u001b[39m 1.0.5     \u001b[32m✔\u001b[39m \u001b[34mrsample     \u001b[39m 1.2.0\n",
      "\u001b[32m✔\u001b[39m \u001b[34mdials       \u001b[39m 1.2.0     \u001b[32m✔\u001b[39m \u001b[34mtune        \u001b[39m 1.1.2\n",
      "\u001b[32m✔\u001b[39m \u001b[34minfer       \u001b[39m 1.0.5     \u001b[32m✔\u001b[39m \u001b[34mworkflows   \u001b[39m 1.1.3\n",
      "\u001b[32m✔\u001b[39m \u001b[34mmodeldata   \u001b[39m 1.2.0     \u001b[32m✔\u001b[39m \u001b[34mworkflowsets\u001b[39m 1.0.1\n",
      "\u001b[32m✔\u001b[39m \u001b[34mparsnip     \u001b[39m 1.1.1     \u001b[32m✔\u001b[39m \u001b[34myardstick   \u001b[39m 1.2.0\n",
      "\u001b[32m✔\u001b[39m \u001b[34mrecipes     \u001b[39m 1.0.8     \n",
      "\n",
      "── \u001b[1mConflicts\u001b[22m ───────────────────────────────────────── tidymodels_conflicts() ──\n",
      "\u001b[31m✖\u001b[39m \u001b[34mscales\u001b[39m::\u001b[32mdiscard()\u001b[39m masks \u001b[34mpurrr\u001b[39m::discard()\n",
      "\u001b[31m✖\u001b[39m \u001b[34mdplyr\u001b[39m::\u001b[32mfilter()\u001b[39m   masks \u001b[34mstats\u001b[39m::filter()\n",
      "\u001b[31m✖\u001b[39m \u001b[34mrecipes\u001b[39m::\u001b[32mfixed()\u001b[39m  masks \u001b[34mstringr\u001b[39m::fixed()\n",
      "\u001b[31m✖\u001b[39m \u001b[34mdplyr\u001b[39m::\u001b[32mlag()\u001b[39m      masks \u001b[34mstats\u001b[39m::lag()\n",
      "\u001b[31m✖\u001b[39m \u001b[34myardstick\u001b[39m::\u001b[32mspec()\u001b[39m masks \u001b[34mreadr\u001b[39m::spec()\n",
      "\u001b[31m✖\u001b[39m \u001b[34mrecipes\u001b[39m::\u001b[32mstep()\u001b[39m   masks \u001b[34mstats\u001b[39m::step()\n",
      "\u001b[34m•\u001b[39m Use \u001b[32mtidymodels_prefer()\u001b[39m to resolve common conflicts.\n",
      "\n"
     ]
    }
   ],
   "source": [
    "library(dplyr)\n",
    "library(tidyr)\n",
    "library(tidyverse)\n",
    "library(tidymodels)"
   ]
  },
  {
   "cell_type": "code",
   "execution_count": 2,
   "id": "f9dc4352-b817-438a-9e0d-6472ab4f41b8",
   "metadata": {},
   "outputs": [
    {
     "name": "stderr",
     "output_type": "stream",
     "text": [
      "\u001b[1m\u001b[22mNew names:\n",
      "\u001b[36m•\u001b[39m `` -> `...1`\n",
      "\u001b[1mRows: \u001b[22m\u001b[34m500\u001b[39m \u001b[1mColumns: \u001b[22m\u001b[34m38\u001b[39m\n",
      "\u001b[36m──\u001b[39m \u001b[1mColumn specification\u001b[22m \u001b[36m────────────────────────────────────────────────────────\u001b[39m\n",
      "\u001b[1mDelimiter:\u001b[22m \",\"\n",
      "\u001b[31mchr\u001b[39m (25): Age, Country, Plays, Wikipedia, Current Rank, Best Rank, Name, Bac...\n",
      "\u001b[32mdbl\u001b[39m (13): ...1, Turned Pro, Seasons, Titles, Best Season, Retired, Masters, ...\n",
      "\n",
      "\u001b[36mℹ\u001b[39m Use `spec()` to retrieve the full column specification for this data.\n",
      "\u001b[36mℹ\u001b[39m Specify the column types or set `show_col_types = FALSE` to quiet this message.\n"
     ]
    }
   ],
   "source": [
    "tennis_data <- read_csv(\"data/player_stats.csv\")"
   ]
  },
  {
   "cell_type": "code",
   "execution_count": 3,
   "id": "49ee4e7c-453a-4fc0-aec1-f80a31768502",
   "metadata": {},
   "outputs": [],
   "source": [
    "tennis_data_deleted <-tennis_data |>rename(Current_Rank = \"Current Rank\",Best_rank =\"Best Rank\",Favorite_Surface=\"Favorite Surface\",Turned_Pro=\"Turned Pro\",Current_Elo_Rank=\"Current Elo Rank\",Best_Elo_Rank=\"Best Elo Rank\",Peak_Elo_Rating=\"Peak Elo Rating\",Last_Appearance=\"Last Appearance\",GOAT_Rank=\"GOAT Rank\",Best_Season=\"Best Season\")|>\n",
    "select(- c(...1,Wikipedia, Height,Masters,Birthplace,Residence,Weight,Coach,Facebook,Twitter,Nicknames,\"Davis Cups\",Olympics,\"Grand Slams\",\"Web Site\",\"Team Cups\",\"Weeks at No. 1\",\"Tour Finals\"))"
   ]
  },
  {
   "cell_type": "code",
   "execution_count": 4,
   "id": "4c5ee0cb-85d7-4ea4-864c-64782a62f13a",
   "metadata": {},
   "outputs": [],
   "source": [
    "Separated_Age_Age_When <- separate(tennis_data_deleted,Age,into= c(\"Age\",\"Age_When\"),sep= \"\\\\(\") |>separate(Age_When,into= c(\"Age_When\",\"blank\"),sep= \"\\\\)\")|>select(-blank)\n",
    "#Separated Age to Age and Age_When"
   ]
  },
  {
   "cell_type": "code",
   "execution_count": 5,
   "id": "e0b7b148-3e3a-46fe-b3fb-876f2644df4e",
   "metadata": {},
   "outputs": [],
   "source": [
    "Separated_Current_Rank_Points <-separate(Separated_Age_Age_When,Current_Rank,into= c(\"Current_Rank\",\"Current_Rank_Points\"),sep= \"\\\\(\") |>separate(Current_Rank_Points,into= c(\"Current_Rank_Points\",\"blank\"),sep= \"\\\\)\")|>select(-blank)\n",
    "#Separated Current_Rank to Current_Rank and Current_Rank_Points"
   ]
  },
  {
   "cell_type": "code",
   "execution_count": 6,
   "id": "c1c74798-fc83-44eb-a4d2-fcc7f5d44bdf",
   "metadata": {},
   "outputs": [],
   "source": [
    "Best_rank_When <-separate(Separated_Current_Rank_Points,Best_rank,into= c(\"Best_rank\",\"Best_rank_When\"),sep= \"\\\\(\" ) |>\n",
    "separate(Best_rank_When,into= c(\"Best_rank_When\",\"blank\"),sep= \"\\\\)\")|>\n",
    "select(-blank)"
   ]
  },
  {
   "cell_type": "code",
   "execution_count": 7,
   "id": "2698539b-9101-430e-8e28-4ab3478b581e",
   "metadata": {},
   "outputs": [],
   "source": [
    "Seperated_Current_Elo_Rank <-separate(Best_rank_When,Current_Elo_Rank,into= c(\"Current_Elo_Rank\",\"Current_Elo_Rank_Points\"),sep= \"\\\\(\" ) |>\n",
    "separate(Current_Elo_Rank_Points,into= c(\"Current_Elo_Rank_Points\",\"blank\"),sep= \"\\\\)\")|>\n",
    "select(-blank)"
   ]
  },
  {
   "cell_type": "code",
   "execution_count": 8,
   "id": "967d2f62-e75c-44e2-88a3-c58b2325f983",
   "metadata": {},
   "outputs": [],
   "source": [
    "Seperated_Best_Elo_Rank <-separate(Seperated_Current_Elo_Rank,Best_Elo_Rank,into= c(\"Best_Elo_Rank\",\"Best_Elo_Rank_Date\"),sep= \"\\\\(\" ) |>\n",
    "separate(Best_Elo_Rank_Date,into= c(\"Best_Elo_Rank_Date\",\"blank\"),sep= \"\\\\)\")|>\n",
    "select(-blank)\n"
   ]
  },
  {
   "cell_type": "code",
   "execution_count": 9,
   "id": "653e1d40-09b1-410f-8c30-1249051f4b8d",
   "metadata": {},
   "outputs": [],
   "source": [
    "Separated_Peak_Elo_Rating<-separate(Seperated_Best_Elo_Rank,Peak_Elo_Rating\t,into= c(\"Peak_Elo_Rating\",\"Peak_Elo_Rating_Date\"),sep= \"\\\\(\" ) |>\n",
    "separate(Peak_Elo_Rating_Date,into= c(\"Peak_Elo_Rating_Date\",\"blank\"),sep= \"\\\\)\")|>\n",
    "select(-blank)"
   ]
  },
  {
   "cell_type": "code",
   "execution_count": 10,
   "id": "f2915234-f3ec-444a-b4ca-4837441936e6",
   "metadata": {},
   "outputs": [],
   "source": [
    "Seperated_GOAT_Rank <-separate(Separated_Peak_Elo_Rating,GOAT_Rank,into= c(\"GOAT_Rank_Points\",\"GOAT_Rank\"),sep= \"\\\\(\" ) |>\n",
    "separate(GOAT_Rank,into= c(\"GOAT_Rank\",\"blank\"),sep= \"\\\\)\")|>\n",
    "select(-blank)"
   ]
  },
  {
   "cell_type": "code",
   "execution_count": 11,
   "id": "2527cf53-03ac-4fb5-86f6-1fdc79f674c1",
   "metadata": {},
   "outputs": [],
   "source": [
    "#lacking the Surface Data to do"
   ]
  },
  {
   "cell_type": "code",
   "execution_count": 12,
   "id": "a3411003-5907-417f-ae5f-c00668f63f69",
   "metadata": {},
   "outputs": [],
   "source": [
    "tennis_data_remain <- select(Seperated_GOAT_Rank,c(Age, Country, Current_Rank, Current_Rank_Points, Best_rank, Best_rank_When,Name))|>\n",
    " mutate(Age=as.numeric(Age),Current_Rank=as.numeric(Current_Rank),Current_Rank_Points=as.numeric(Current_Rank_Points),Best_rank=as.numeric(Best_rank)) |>\n",
    " drop_na(Current_Rank_Points)\n"
   ]
  },
  {
   "cell_type": "code",
   "execution_count": 13,
   "id": "d87dbce3-d8eb-4e87-9ae0-f53d1511a013",
   "metadata": {},
   "outputs": [
    {
     "data": {
      "text/html": [
       "<table class=\"dataframe\">\n",
       "<caption>A tibble: 495 × 7</caption>\n",
       "<thead>\n",
       "\t<tr><th scope=col>Age</th><th scope=col>Country</th><th scope=col>Current_Rank</th><th scope=col>Current_Rank_Points</th><th scope=col>Best_rank</th><th scope=col>Best_rank_When</th><th scope=col>Name</th></tr>\n",
       "\t<tr><th scope=col>&lt;dbl&gt;</th><th scope=col>&lt;chr&gt;</th><th scope=col>&lt;dbl&gt;</th><th scope=col>&lt;dbl&gt;</th><th scope=col>&lt;dbl&gt;</th><th scope=col>&lt;chr&gt;</th><th scope=col>&lt;chr&gt;</th></tr>\n",
       "</thead>\n",
       "<tbody>\n",
       "\t<tr><td>33</td><td>Spain             </td><td> 1</td><td>10235</td><td> 1</td><td>18-08-2008</td><td>Rafael Nadal               </td></tr>\n",
       "\t<tr><td>32</td><td>Serbia            </td><td> 2</td><td> 9720</td><td> 1</td><td>04-07-2011</td><td>Novak Djokovic             </td></tr>\n",
       "\t<tr><td>38</td><td>Switzerland       </td><td> 3</td><td> 6590</td><td> 1</td><td>02-02-2004</td><td>Roger Federer              </td></tr>\n",
       "\t<tr><td>23</td><td>Russian Federation</td><td> 4</td><td> 5960</td><td> 4</td><td>09-09-2019</td><td>Daniil Medvedev            </td></tr>\n",
       "\t<tr><td>26</td><td>Austria           </td><td> 5</td><td> 5890</td><td> 4</td><td>06-11-2017</td><td>Dominic Thiem              </td></tr>\n",
       "\t<tr><td>21</td><td>Greece            </td><td> 6</td><td> 5375</td><td> 5</td><td>05-08-2019</td><td>Stefanos Tsitsipas         </td></tr>\n",
       "\t<tr><td>22</td><td>Germany           </td><td> 7</td><td> 3345</td><td> 3</td><td>06-11-2017</td><td>Alexander Zverev           </td></tr>\n",
       "\t<tr><td>23</td><td>Italy             </td><td> 8</td><td> 2870</td><td> 8</td><td>04-11-2019</td><td>Matteo Berrettini          </td></tr>\n",
       "\t<tr><td>31</td><td>Spain             </td><td> 9</td><td> 2630</td><td> 9</td><td>04-11-2019</td><td>Roberto Bautista Agut      </td></tr>\n",
       "\t<tr><td>33</td><td>France            </td><td>10</td><td> 2565</td><td> 6</td><td>07-11-2016</td><td>Gael Monfils               </td></tr>\n",
       "\t<tr><td>29</td><td>Belgium           </td><td>11</td><td> 2555</td><td> 7</td><td>20-11-2017</td><td>David Goffin               </td></tr>\n",
       "\t<tr><td>32</td><td>Italy             </td><td>12</td><td> 2310</td><td> 9</td><td>15-07-2019</td><td>Fabio Fognini              </td></tr>\n",
       "\t<tr><td>20</td><td>Canada            </td><td>13</td><td> 2200</td><td>13</td><td>13-01-2020</td><td>Denis Shapovalov           </td></tr>\n",
       "\t<tr><td>27</td><td>Argentina         </td><td>14</td><td> 2130</td><td>11</td><td>11-06-2018</td><td>Diego Sebastian Schwartzman</td></tr>\n",
       "\t<tr><td>34</td><td>Switzerland       </td><td>15</td><td> 2045</td><td> 3</td><td>27-01-2014</td><td>Stan Wawrinka              </td></tr>\n",
       "\t<tr><td>22</td><td>Russian Federation</td><td>16</td><td> 2004</td><td>16</td><td>20-01-2020</td><td>Andrey Rublev              </td></tr>\n",
       "\t<tr><td>23</td><td>Russian Federation</td><td>17</td><td> 1995</td><td> 8</td><td>15-07-2019</td><td>Karen Khachanov            </td></tr>\n",
       "\t<tr><td>30</td><td>Japan             </td><td>18</td><td> 1930</td><td> 4</td><td>02-03-2015</td><td>Kei Nishikori              </td></tr>\n",
       "\t<tr><td>34</td><td>United States     </td><td>19</td><td> 1860</td><td> 8</td><td>16-07-2018</td><td>John Isner                 </td></tr>\n",
       "\t<tr><td>28</td><td>Bulgaria          </td><td>20</td><td> 1772</td><td> 3</td><td>20-11-2017</td><td>Grigor Dimitrov            </td></tr>\n",
       "\t<tr><td>30</td><td>France            </td><td>21</td><td> 1703</td><td>18</td><td>11-01-2016</td><td>Benoit Paire               </td></tr>\n",
       "\t<tr><td>19</td><td>Canada            </td><td>22</td><td> 1701</td><td>17</td><td>14-10-2019</td><td>Felix Auger Aliassime      </td></tr>\n",
       "\t<tr><td>20</td><td>Australia         </td><td>23</td><td> 1665</td><td>18</td><td>28-10-2019</td><td>Alex De Minaur             </td></tr>\n",
       "\t<tr><td>25</td><td>France            </td><td>24</td><td> 1600</td><td>10</td><td>19-03-2018</td><td>Lucas Pouille              </td></tr>\n",
       "\t<tr><td>29</td><td>Argentina         </td><td>25</td><td> 1585</td><td>20</td><td>19-08-2019</td><td>Guido Pella                </td></tr>\n",
       "\t<tr><td>24</td><td>Australia         </td><td>26</td><td> 1520</td><td>13</td><td>24-10-2016</td><td>Nick Kyrgios               </td></tr>\n",
       "\t<tr><td>29</td><td>Serbia            </td><td>27</td><td> 1516</td><td>23</td><td>29-04-2019</td><td>Dusan Lajovic              </td></tr>\n",
       "\t<tr><td>23</td><td>Croatia           </td><td>28</td><td> 1490</td><td>12</td><td>05-11-2018</td><td>Borna Coric                </td></tr>\n",
       "\t<tr><td>27</td><td>Georgia           </td><td>29</td><td> 1485</td><td>16</td><td>27-05-2019</td><td>Nikoloz Basilashvili       </td></tr>\n",
       "\t<tr><td>28</td><td>Spain             </td><td>30</td><td> 1422</td><td>10</td><td>11-09-2017</td><td>Pablo Carreno Busta        </td></tr>\n",
       "\t<tr><td>⋮</td><td>⋮</td><td>⋮</td><td>⋮</td><td>⋮</td><td>⋮</td><td>⋮</td></tr>\n",
       "\t<tr><td>25</td><td>Netherlands              </td><td>465</td><td>66</td><td>423</td><td>24-07-2017</td><td>Niels Lootsma             </td></tr>\n",
       "\t<tr><td>27</td><td>United States            </td><td>469</td><td>66</td><td>465</td><td>13-01-2020</td><td>Nick Chappell             </td></tr>\n",
       "\t<tr><td>20</td><td>Taiwan, Province of China</td><td>471</td><td>65</td><td>462</td><td>21-10-2019</td><td>Yu Hsiou Hsu              </td></tr>\n",
       "\t<tr><td>23</td><td>Czech Republic           </td><td>475</td><td>65</td><td>415</td><td>22-10-2018</td><td>David Poljak              </td></tr>\n",
       "\t<tr><td>31</td><td>France                   </td><td>470</td><td>65</td><td>153</td><td>08-01-2018</td><td>Gleb Sakharov             </td></tr>\n",
       "\t<tr><td>24</td><td>Brazil                   </td><td>472</td><td>65</td><td>440</td><td>21-05-2018</td><td>Rafael Matos              </td></tr>\n",
       "\t<tr><td>27</td><td>Spain                    </td><td>474</td><td>65</td><td>254</td><td>21-05-2018</td><td>Carlos Boluda Purkiss     </td></tr>\n",
       "\t<tr><td>21</td><td>Italy                    </td><td>473</td><td>65</td><td>469</td><td>13-01-2020</td><td>Riccardo Balzerani        </td></tr>\n",
       "\t<tr><td>21</td><td>France                   </td><td>476</td><td>65</td><td>402</td><td>12-08-2019</td><td>Matteo Martineau          </td></tr>\n",
       "\t<tr><td>19</td><td>Russian Federation       </td><td>479</td><td>64</td><td>474</td><td>13-01-2020</td><td>Alexey Zakharov           </td></tr>\n",
       "\t<tr><td>22</td><td>Spain                    </td><td>477</td><td>64</td><td>349</td><td>30-01-2017</td><td>Alvaro Lopez San Martin   </td></tr>\n",
       "\t<tr><td>27</td><td>France                   </td><td>480</td><td>64</td><td>409</td><td>12-08-2019</td><td>Mathieu Perchicot         </td></tr>\n",
       "\t<tr><td>29</td><td>Spain                    </td><td>478</td><td>64</td><td>268</td><td>07-05-2018</td><td>Carlos Gomez Herrera      </td></tr>\n",
       "\t<tr><td>28</td><td>Russian Federation       </td><td>488</td><td>63</td><td>329</td><td>24-12-2018</td><td>Alexander Zhurbin         </td></tr>\n",
       "\t<tr><td>26</td><td>Zimbabwe                 </td><td>487</td><td>63</td><td>391</td><td>17-12-2018</td><td>Benjamin Lock             </td></tr>\n",
       "\t<tr><td>25</td><td>Spain                    </td><td>482</td><td>63</td><td>353</td><td>05-11-2018</td><td>Eduard Esteve Lobato      </td></tr>\n",
       "\t<tr><td>23</td><td>Austria                  </td><td>483</td><td>63</td><td>390</td><td>16-10-2017</td><td>David Pichler             </td></tr>\n",
       "\t<tr><td>29</td><td>Colombia                 </td><td>481</td><td>63</td><td>362</td><td>09-04-2018</td><td>Cristian Rodriguez        </td></tr>\n",
       "\t<tr><td>21</td><td>Italy                    </td><td>485</td><td>63</td><td>389</td><td>24-06-2019</td><td>Jacopo Berrettini         </td></tr>\n",
       "\t<tr><td>25</td><td>France                   </td><td>486</td><td>63</td><td>465</td><td>19-08-2019</td><td>Robert Quentin            </td></tr>\n",
       "\t<tr><td>24</td><td>Peru                     </td><td>491</td><td>62</td><td>485</td><td>13-01-2020</td><td>Jorge Brian Panta Herreros</td></tr>\n",
       "\t<tr><td>22</td><td>Finland                  </td><td>489</td><td>62</td><td>423</td><td>22-10-2018</td><td>Patrik Niklas Salminen    </td></tr>\n",
       "\t<tr><td>27</td><td>Spain                    </td><td>490</td><td>62</td><td>171</td><td>09-10-2017</td><td>Ricardo Ojeda Lara        </td></tr>\n",
       "\t<tr><td>20</td><td>Turkey                   </td><td>492</td><td>61</td><td>488</td><td>12-08-2019</td><td>Ergi Kirkin               </td></tr>\n",
       "\t<tr><td>24</td><td>United States            </td><td>493</td><td>61</td><td>486</td><td>13-01-2020</td><td>Gage Brymer               </td></tr>\n",
       "\t<tr><td>23</td><td>Cyprus                   </td><td>494</td><td>60</td><td>378</td><td>31-12-2018</td><td>Petros Chrysochos         </td></tr>\n",
       "\t<tr><td>23</td><td>Netherlands              </td><td>495</td><td>60</td><td>342</td><td>05-08-2019</td><td>Gijs Brouwer              </td></tr>\n",
       "\t<tr><td>21</td><td>France                   </td><td>498</td><td>59</td><td>391</td><td>05-08-2019</td><td>Evan Furness              </td></tr>\n",
       "\t<tr><td>20</td><td>United Kingdom           </td><td>499</td><td>58</td><td>427</td><td>22-07-2019</td><td>Paul Jubb                 </td></tr>\n",
       "\t<tr><td>23</td><td>France                   </td><td>500</td><td>58</td><td>226</td><td>17-09-2018</td><td>Johan Sebastien Tatlot    </td></tr>\n",
       "</tbody>\n",
       "</table>\n"
      ],
      "text/latex": [
       "A tibble: 495 × 7\n",
       "\\begin{tabular}{lllllll}\n",
       " Age & Country & Current\\_Rank & Current\\_Rank\\_Points & Best\\_rank & Best\\_rank\\_When & Name\\\\\n",
       " <dbl> & <chr> & <dbl> & <dbl> & <dbl> & <chr> & <chr>\\\\\n",
       "\\hline\n",
       "\t 33 & Spain              &  1 & 10235 &  1 & 18-08-2008 & Rafael Nadal               \\\\\n",
       "\t 32 & Serbia             &  2 &  9720 &  1 & 04-07-2011 & Novak Djokovic             \\\\\n",
       "\t 38 & Switzerland        &  3 &  6590 &  1 & 02-02-2004 & Roger Federer              \\\\\n",
       "\t 23 & Russian Federation &  4 &  5960 &  4 & 09-09-2019 & Daniil Medvedev            \\\\\n",
       "\t 26 & Austria            &  5 &  5890 &  4 & 06-11-2017 & Dominic Thiem              \\\\\n",
       "\t 21 & Greece             &  6 &  5375 &  5 & 05-08-2019 & Stefanos Tsitsipas         \\\\\n",
       "\t 22 & Germany            &  7 &  3345 &  3 & 06-11-2017 & Alexander Zverev           \\\\\n",
       "\t 23 & Italy              &  8 &  2870 &  8 & 04-11-2019 & Matteo Berrettini          \\\\\n",
       "\t 31 & Spain              &  9 &  2630 &  9 & 04-11-2019 & Roberto Bautista Agut      \\\\\n",
       "\t 33 & France             & 10 &  2565 &  6 & 07-11-2016 & Gael Monfils               \\\\\n",
       "\t 29 & Belgium            & 11 &  2555 &  7 & 20-11-2017 & David Goffin               \\\\\n",
       "\t 32 & Italy              & 12 &  2310 &  9 & 15-07-2019 & Fabio Fognini              \\\\\n",
       "\t 20 & Canada             & 13 &  2200 & 13 & 13-01-2020 & Denis Shapovalov           \\\\\n",
       "\t 27 & Argentina          & 14 &  2130 & 11 & 11-06-2018 & Diego Sebastian Schwartzman\\\\\n",
       "\t 34 & Switzerland        & 15 &  2045 &  3 & 27-01-2014 & Stan Wawrinka              \\\\\n",
       "\t 22 & Russian Federation & 16 &  2004 & 16 & 20-01-2020 & Andrey Rublev              \\\\\n",
       "\t 23 & Russian Federation & 17 &  1995 &  8 & 15-07-2019 & Karen Khachanov            \\\\\n",
       "\t 30 & Japan              & 18 &  1930 &  4 & 02-03-2015 & Kei Nishikori              \\\\\n",
       "\t 34 & United States      & 19 &  1860 &  8 & 16-07-2018 & John Isner                 \\\\\n",
       "\t 28 & Bulgaria           & 20 &  1772 &  3 & 20-11-2017 & Grigor Dimitrov            \\\\\n",
       "\t 30 & France             & 21 &  1703 & 18 & 11-01-2016 & Benoit Paire               \\\\\n",
       "\t 19 & Canada             & 22 &  1701 & 17 & 14-10-2019 & Felix Auger Aliassime      \\\\\n",
       "\t 20 & Australia          & 23 &  1665 & 18 & 28-10-2019 & Alex De Minaur             \\\\\n",
       "\t 25 & France             & 24 &  1600 & 10 & 19-03-2018 & Lucas Pouille              \\\\\n",
       "\t 29 & Argentina          & 25 &  1585 & 20 & 19-08-2019 & Guido Pella                \\\\\n",
       "\t 24 & Australia          & 26 &  1520 & 13 & 24-10-2016 & Nick Kyrgios               \\\\\n",
       "\t 29 & Serbia             & 27 &  1516 & 23 & 29-04-2019 & Dusan Lajovic              \\\\\n",
       "\t 23 & Croatia            & 28 &  1490 & 12 & 05-11-2018 & Borna Coric                \\\\\n",
       "\t 27 & Georgia            & 29 &  1485 & 16 & 27-05-2019 & Nikoloz Basilashvili       \\\\\n",
       "\t 28 & Spain              & 30 &  1422 & 10 & 11-09-2017 & Pablo Carreno Busta        \\\\\n",
       "\t ⋮ & ⋮ & ⋮ & ⋮ & ⋮ & ⋮ & ⋮\\\\\n",
       "\t 25 & Netherlands               & 465 & 66 & 423 & 24-07-2017 & Niels Lootsma             \\\\\n",
       "\t 27 & United States             & 469 & 66 & 465 & 13-01-2020 & Nick Chappell             \\\\\n",
       "\t 20 & Taiwan, Province of China & 471 & 65 & 462 & 21-10-2019 & Yu Hsiou Hsu              \\\\\n",
       "\t 23 & Czech Republic            & 475 & 65 & 415 & 22-10-2018 & David Poljak              \\\\\n",
       "\t 31 & France                    & 470 & 65 & 153 & 08-01-2018 & Gleb Sakharov             \\\\\n",
       "\t 24 & Brazil                    & 472 & 65 & 440 & 21-05-2018 & Rafael Matos              \\\\\n",
       "\t 27 & Spain                     & 474 & 65 & 254 & 21-05-2018 & Carlos Boluda Purkiss     \\\\\n",
       "\t 21 & Italy                     & 473 & 65 & 469 & 13-01-2020 & Riccardo Balzerani        \\\\\n",
       "\t 21 & France                    & 476 & 65 & 402 & 12-08-2019 & Matteo Martineau          \\\\\n",
       "\t 19 & Russian Federation        & 479 & 64 & 474 & 13-01-2020 & Alexey Zakharov           \\\\\n",
       "\t 22 & Spain                     & 477 & 64 & 349 & 30-01-2017 & Alvaro Lopez San Martin   \\\\\n",
       "\t 27 & France                    & 480 & 64 & 409 & 12-08-2019 & Mathieu Perchicot         \\\\\n",
       "\t 29 & Spain                     & 478 & 64 & 268 & 07-05-2018 & Carlos Gomez Herrera      \\\\\n",
       "\t 28 & Russian Federation        & 488 & 63 & 329 & 24-12-2018 & Alexander Zhurbin         \\\\\n",
       "\t 26 & Zimbabwe                  & 487 & 63 & 391 & 17-12-2018 & Benjamin Lock             \\\\\n",
       "\t 25 & Spain                     & 482 & 63 & 353 & 05-11-2018 & Eduard Esteve Lobato      \\\\\n",
       "\t 23 & Austria                   & 483 & 63 & 390 & 16-10-2017 & David Pichler             \\\\\n",
       "\t 29 & Colombia                  & 481 & 63 & 362 & 09-04-2018 & Cristian Rodriguez        \\\\\n",
       "\t 21 & Italy                     & 485 & 63 & 389 & 24-06-2019 & Jacopo Berrettini         \\\\\n",
       "\t 25 & France                    & 486 & 63 & 465 & 19-08-2019 & Robert Quentin            \\\\\n",
       "\t 24 & Peru                      & 491 & 62 & 485 & 13-01-2020 & Jorge Brian Panta Herreros\\\\\n",
       "\t 22 & Finland                   & 489 & 62 & 423 & 22-10-2018 & Patrik Niklas Salminen    \\\\\n",
       "\t 27 & Spain                     & 490 & 62 & 171 & 09-10-2017 & Ricardo Ojeda Lara        \\\\\n",
       "\t 20 & Turkey                    & 492 & 61 & 488 & 12-08-2019 & Ergi Kirkin               \\\\\n",
       "\t 24 & United States             & 493 & 61 & 486 & 13-01-2020 & Gage Brymer               \\\\\n",
       "\t 23 & Cyprus                    & 494 & 60 & 378 & 31-12-2018 & Petros Chrysochos         \\\\\n",
       "\t 23 & Netherlands               & 495 & 60 & 342 & 05-08-2019 & Gijs Brouwer              \\\\\n",
       "\t 21 & France                    & 498 & 59 & 391 & 05-08-2019 & Evan Furness              \\\\\n",
       "\t 20 & United Kingdom            & 499 & 58 & 427 & 22-07-2019 & Paul Jubb                 \\\\\n",
       "\t 23 & France                    & 500 & 58 & 226 & 17-09-2018 & Johan Sebastien Tatlot    \\\\\n",
       "\\end{tabular}\n"
      ],
      "text/markdown": [
       "\n",
       "A tibble: 495 × 7\n",
       "\n",
       "| Age &lt;dbl&gt; | Country &lt;chr&gt; | Current_Rank &lt;dbl&gt; | Current_Rank_Points &lt;dbl&gt; | Best_rank &lt;dbl&gt; | Best_rank_When &lt;chr&gt; | Name &lt;chr&gt; |\n",
       "|---|---|---|---|---|---|---|\n",
       "| 33 | Spain              |  1 | 10235 |  1 | 18-08-2008 | Rafael Nadal                |\n",
       "| 32 | Serbia             |  2 |  9720 |  1 | 04-07-2011 | Novak Djokovic              |\n",
       "| 38 | Switzerland        |  3 |  6590 |  1 | 02-02-2004 | Roger Federer               |\n",
       "| 23 | Russian Federation |  4 |  5960 |  4 | 09-09-2019 | Daniil Medvedev             |\n",
       "| 26 | Austria            |  5 |  5890 |  4 | 06-11-2017 | Dominic Thiem               |\n",
       "| 21 | Greece             |  6 |  5375 |  5 | 05-08-2019 | Stefanos Tsitsipas          |\n",
       "| 22 | Germany            |  7 |  3345 |  3 | 06-11-2017 | Alexander Zverev            |\n",
       "| 23 | Italy              |  8 |  2870 |  8 | 04-11-2019 | Matteo Berrettini           |\n",
       "| 31 | Spain              |  9 |  2630 |  9 | 04-11-2019 | Roberto Bautista Agut       |\n",
       "| 33 | France             | 10 |  2565 |  6 | 07-11-2016 | Gael Monfils                |\n",
       "| 29 | Belgium            | 11 |  2555 |  7 | 20-11-2017 | David Goffin                |\n",
       "| 32 | Italy              | 12 |  2310 |  9 | 15-07-2019 | Fabio Fognini               |\n",
       "| 20 | Canada             | 13 |  2200 | 13 | 13-01-2020 | Denis Shapovalov            |\n",
       "| 27 | Argentina          | 14 |  2130 | 11 | 11-06-2018 | Diego Sebastian Schwartzman |\n",
       "| 34 | Switzerland        | 15 |  2045 |  3 | 27-01-2014 | Stan Wawrinka               |\n",
       "| 22 | Russian Federation | 16 |  2004 | 16 | 20-01-2020 | Andrey Rublev               |\n",
       "| 23 | Russian Federation | 17 |  1995 |  8 | 15-07-2019 | Karen Khachanov             |\n",
       "| 30 | Japan              | 18 |  1930 |  4 | 02-03-2015 | Kei Nishikori               |\n",
       "| 34 | United States      | 19 |  1860 |  8 | 16-07-2018 | John Isner                  |\n",
       "| 28 | Bulgaria           | 20 |  1772 |  3 | 20-11-2017 | Grigor Dimitrov             |\n",
       "| 30 | France             | 21 |  1703 | 18 | 11-01-2016 | Benoit Paire                |\n",
       "| 19 | Canada             | 22 |  1701 | 17 | 14-10-2019 | Felix Auger Aliassime       |\n",
       "| 20 | Australia          | 23 |  1665 | 18 | 28-10-2019 | Alex De Minaur              |\n",
       "| 25 | France             | 24 |  1600 | 10 | 19-03-2018 | Lucas Pouille               |\n",
       "| 29 | Argentina          | 25 |  1585 | 20 | 19-08-2019 | Guido Pella                 |\n",
       "| 24 | Australia          | 26 |  1520 | 13 | 24-10-2016 | Nick Kyrgios                |\n",
       "| 29 | Serbia             | 27 |  1516 | 23 | 29-04-2019 | Dusan Lajovic               |\n",
       "| 23 | Croatia            | 28 |  1490 | 12 | 05-11-2018 | Borna Coric                 |\n",
       "| 27 | Georgia            | 29 |  1485 | 16 | 27-05-2019 | Nikoloz Basilashvili        |\n",
       "| 28 | Spain              | 30 |  1422 | 10 | 11-09-2017 | Pablo Carreno Busta         |\n",
       "| ⋮ | ⋮ | ⋮ | ⋮ | ⋮ | ⋮ | ⋮ |\n",
       "| 25 | Netherlands               | 465 | 66 | 423 | 24-07-2017 | Niels Lootsma              |\n",
       "| 27 | United States             | 469 | 66 | 465 | 13-01-2020 | Nick Chappell              |\n",
       "| 20 | Taiwan, Province of China | 471 | 65 | 462 | 21-10-2019 | Yu Hsiou Hsu               |\n",
       "| 23 | Czech Republic            | 475 | 65 | 415 | 22-10-2018 | David Poljak               |\n",
       "| 31 | France                    | 470 | 65 | 153 | 08-01-2018 | Gleb Sakharov              |\n",
       "| 24 | Brazil                    | 472 | 65 | 440 | 21-05-2018 | Rafael Matos               |\n",
       "| 27 | Spain                     | 474 | 65 | 254 | 21-05-2018 | Carlos Boluda Purkiss      |\n",
       "| 21 | Italy                     | 473 | 65 | 469 | 13-01-2020 | Riccardo Balzerani         |\n",
       "| 21 | France                    | 476 | 65 | 402 | 12-08-2019 | Matteo Martineau           |\n",
       "| 19 | Russian Federation        | 479 | 64 | 474 | 13-01-2020 | Alexey Zakharov            |\n",
       "| 22 | Spain                     | 477 | 64 | 349 | 30-01-2017 | Alvaro Lopez San Martin    |\n",
       "| 27 | France                    | 480 | 64 | 409 | 12-08-2019 | Mathieu Perchicot          |\n",
       "| 29 | Spain                     | 478 | 64 | 268 | 07-05-2018 | Carlos Gomez Herrera       |\n",
       "| 28 | Russian Federation        | 488 | 63 | 329 | 24-12-2018 | Alexander Zhurbin          |\n",
       "| 26 | Zimbabwe                  | 487 | 63 | 391 | 17-12-2018 | Benjamin Lock              |\n",
       "| 25 | Spain                     | 482 | 63 | 353 | 05-11-2018 | Eduard Esteve Lobato       |\n",
       "| 23 | Austria                   | 483 | 63 | 390 | 16-10-2017 | David Pichler              |\n",
       "| 29 | Colombia                  | 481 | 63 | 362 | 09-04-2018 | Cristian Rodriguez         |\n",
       "| 21 | Italy                     | 485 | 63 | 389 | 24-06-2019 | Jacopo Berrettini          |\n",
       "| 25 | France                    | 486 | 63 | 465 | 19-08-2019 | Robert Quentin             |\n",
       "| 24 | Peru                      | 491 | 62 | 485 | 13-01-2020 | Jorge Brian Panta Herreros |\n",
       "| 22 | Finland                   | 489 | 62 | 423 | 22-10-2018 | Patrik Niklas Salminen     |\n",
       "| 27 | Spain                     | 490 | 62 | 171 | 09-10-2017 | Ricardo Ojeda Lara         |\n",
       "| 20 | Turkey                    | 492 | 61 | 488 | 12-08-2019 | Ergi Kirkin                |\n",
       "| 24 | United States             | 493 | 61 | 486 | 13-01-2020 | Gage Brymer                |\n",
       "| 23 | Cyprus                    | 494 | 60 | 378 | 31-12-2018 | Petros Chrysochos          |\n",
       "| 23 | Netherlands               | 495 | 60 | 342 | 05-08-2019 | Gijs Brouwer               |\n",
       "| 21 | France                    | 498 | 59 | 391 | 05-08-2019 | Evan Furness               |\n",
       "| 20 | United Kingdom            | 499 | 58 | 427 | 22-07-2019 | Paul Jubb                  |\n",
       "| 23 | France                    | 500 | 58 | 226 | 17-09-2018 | Johan Sebastien Tatlot     |\n",
       "\n"
      ],
      "text/plain": [
       "    Age Country                   Current_Rank Current_Rank_Points Best_rank\n",
       "1   33  Spain                      1           10235                1       \n",
       "2   32  Serbia                     2            9720                1       \n",
       "3   38  Switzerland                3            6590                1       \n",
       "4   23  Russian Federation         4            5960                4       \n",
       "5   26  Austria                    5            5890                4       \n",
       "6   21  Greece                     6            5375                5       \n",
       "7   22  Germany                    7            3345                3       \n",
       "8   23  Italy                      8            2870                8       \n",
       "9   31  Spain                      9            2630                9       \n",
       "10  33  France                    10            2565                6       \n",
       "11  29  Belgium                   11            2555                7       \n",
       "12  32  Italy                     12            2310                9       \n",
       "13  20  Canada                    13            2200               13       \n",
       "14  27  Argentina                 14            2130               11       \n",
       "15  34  Switzerland               15            2045                3       \n",
       "16  22  Russian Federation        16            2004               16       \n",
       "17  23  Russian Federation        17            1995                8       \n",
       "18  30  Japan                     18            1930                4       \n",
       "19  34  United States             19            1860                8       \n",
       "20  28  Bulgaria                  20            1772                3       \n",
       "21  30  France                    21            1703               18       \n",
       "22  19  Canada                    22            1701               17       \n",
       "23  20  Australia                 23            1665               18       \n",
       "24  25  France                    24            1600               10       \n",
       "25  29  Argentina                 25            1585               20       \n",
       "26  24  Australia                 26            1520               13       \n",
       "27  29  Serbia                    27            1516               23       \n",
       "28  23  Croatia                   28            1490               12       \n",
       "29  27  Georgia                   29            1485               16       \n",
       "30  28  Spain                     30            1422               10       \n",
       "⋮   ⋮   ⋮                         ⋮            ⋮                   ⋮        \n",
       "466 25  Netherlands               465          66                  423      \n",
       "467 27  United States             469          66                  465      \n",
       "468 20  Taiwan, Province of China 471          65                  462      \n",
       "469 23  Czech Republic            475          65                  415      \n",
       "470 31  France                    470          65                  153      \n",
       "471 24  Brazil                    472          65                  440      \n",
       "472 27  Spain                     474          65                  254      \n",
       "473 21  Italy                     473          65                  469      \n",
       "474 21  France                    476          65                  402      \n",
       "475 19  Russian Federation        479          64                  474      \n",
       "476 22  Spain                     477          64                  349      \n",
       "477 27  France                    480          64                  409      \n",
       "478 29  Spain                     478          64                  268      \n",
       "479 28  Russian Federation        488          63                  329      \n",
       "480 26  Zimbabwe                  487          63                  391      \n",
       "481 25  Spain                     482          63                  353      \n",
       "482 23  Austria                   483          63                  390      \n",
       "483 29  Colombia                  481          63                  362      \n",
       "484 21  Italy                     485          63                  389      \n",
       "485 25  France                    486          63                  465      \n",
       "486 24  Peru                      491          62                  485      \n",
       "487 22  Finland                   489          62                  423      \n",
       "488 27  Spain                     490          62                  171      \n",
       "489 20  Turkey                    492          61                  488      \n",
       "490 24  United States             493          61                  486      \n",
       "491 23  Cyprus                    494          60                  378      \n",
       "492 23  Netherlands               495          60                  342      \n",
       "493 21  France                    498          59                  391      \n",
       "494 20  United Kingdom            499          58                  427      \n",
       "495 23  France                    500          58                  226      \n",
       "    Best_rank_When Name                       \n",
       "1   18-08-2008     Rafael Nadal               \n",
       "2   04-07-2011     Novak Djokovic             \n",
       "3   02-02-2004     Roger Federer              \n",
       "4   09-09-2019     Daniil Medvedev            \n",
       "5   06-11-2017     Dominic Thiem              \n",
       "6   05-08-2019     Stefanos Tsitsipas         \n",
       "7   06-11-2017     Alexander Zverev           \n",
       "8   04-11-2019     Matteo Berrettini          \n",
       "9   04-11-2019     Roberto Bautista Agut      \n",
       "10  07-11-2016     Gael Monfils               \n",
       "11  20-11-2017     David Goffin               \n",
       "12  15-07-2019     Fabio Fognini              \n",
       "13  13-01-2020     Denis Shapovalov           \n",
       "14  11-06-2018     Diego Sebastian Schwartzman\n",
       "15  27-01-2014     Stan Wawrinka              \n",
       "16  20-01-2020     Andrey Rublev              \n",
       "17  15-07-2019     Karen Khachanov            \n",
       "18  02-03-2015     Kei Nishikori              \n",
       "19  16-07-2018     John Isner                 \n",
       "20  20-11-2017     Grigor Dimitrov            \n",
       "21  11-01-2016     Benoit Paire               \n",
       "22  14-10-2019     Felix Auger Aliassime      \n",
       "23  28-10-2019     Alex De Minaur             \n",
       "24  19-03-2018     Lucas Pouille              \n",
       "25  19-08-2019     Guido Pella                \n",
       "26  24-10-2016     Nick Kyrgios               \n",
       "27  29-04-2019     Dusan Lajovic              \n",
       "28  05-11-2018     Borna Coric                \n",
       "29  27-05-2019     Nikoloz Basilashvili       \n",
       "30  11-09-2017     Pablo Carreno Busta        \n",
       "⋮   ⋮              ⋮                          \n",
       "466 24-07-2017     Niels Lootsma              \n",
       "467 13-01-2020     Nick Chappell              \n",
       "468 21-10-2019     Yu Hsiou Hsu               \n",
       "469 22-10-2018     David Poljak               \n",
       "470 08-01-2018     Gleb Sakharov              \n",
       "471 21-05-2018     Rafael Matos               \n",
       "472 21-05-2018     Carlos Boluda Purkiss      \n",
       "473 13-01-2020     Riccardo Balzerani         \n",
       "474 12-08-2019     Matteo Martineau           \n",
       "475 13-01-2020     Alexey Zakharov            \n",
       "476 30-01-2017     Alvaro Lopez San Martin    \n",
       "477 12-08-2019     Mathieu Perchicot          \n",
       "478 07-05-2018     Carlos Gomez Herrera       \n",
       "479 24-12-2018     Alexander Zhurbin          \n",
       "480 17-12-2018     Benjamin Lock              \n",
       "481 05-11-2018     Eduard Esteve Lobato       \n",
       "482 16-10-2017     David Pichler              \n",
       "483 09-04-2018     Cristian Rodriguez         \n",
       "484 24-06-2019     Jacopo Berrettini          \n",
       "485 19-08-2019     Robert Quentin             \n",
       "486 13-01-2020     Jorge Brian Panta Herreros \n",
       "487 22-10-2018     Patrik Niklas Salminen     \n",
       "488 09-10-2017     Ricardo Ojeda Lara         \n",
       "489 12-08-2019     Ergi Kirkin                \n",
       "490 13-01-2020     Gage Brymer                \n",
       "491 31-12-2018     Petros Chrysochos          \n",
       "492 05-08-2019     Gijs Brouwer               \n",
       "493 05-08-2019     Evan Furness               \n",
       "494 22-07-2019     Paul Jubb                  \n",
       "495 17-09-2018     Johan Sebastien Tatlot     "
      ]
     },
     "metadata": {},
     "output_type": "display_data"
    }
   ],
   "source": [
    "tennis_data_sorted <- arrange(tennis_data_remain,desc(as.numeric(Current_Rank_Points)))\n",
    "tennis_data_sorted"
   ]
  },
  {
   "cell_type": "code",
   "execution_count": 14,
   "id": "c16de829-bb32-4475-9a7a-af4e11cf6cd5",
   "metadata": {},
   "outputs": [
    {
     "name": "stderr",
     "output_type": "stream",
     "text": [
      "Warning message:\n",
      "“Too little data to stratify.\n",
      "\u001b[36m•\u001b[39m Resampling will be unstratified.”\n"
     ]
    }
   ],
   "source": [
    "tennis_split <- initial_split(tennis_data_sorted, prop = 0.75, strata = Country)\n",
    "tennis_train <- training(tennis_split)\n",
    "tennis_test <- testing(tennis_split)"
   ]
  },
  {
   "cell_type": "code",
   "execution_count": null,
   "id": "fe856ac0-66d3-4f5e-888e-b0324848d44c",
   "metadata": {},
   "outputs": [],
   "source": []
  },
  {
   "cell_type": "code",
   "execution_count": 15,
   "id": "3731d7a7-f6fb-46c1-ac87-e2c105fe2542",
   "metadata": {},
   "outputs": [
    {
     "data": {
      "text/html": [
       "<table class=\"dataframe\">\n",
       "<caption>A tibble: 10 × 2</caption>\n",
       "<thead>\n",
       "\t<tr><th scope=col>Country</th><th scope=col>count</th></tr>\n",
       "\t<tr><th scope=col>&lt;chr&gt;</th><th scope=col>&lt;int&gt;</th></tr>\n",
       "</thead>\n",
       "<tbody>\n",
       "\t<tr><td>France            </td><td>37</td></tr>\n",
       "\t<tr><td>Italy             </td><td>28</td></tr>\n",
       "\t<tr><td>United States     </td><td>28</td></tr>\n",
       "\t<tr><td>Spain             </td><td>23</td></tr>\n",
       "\t<tr><td>Argentina         </td><td>22</td></tr>\n",
       "\t<tr><td>Germany           </td><td>21</td></tr>\n",
       "\t<tr><td>Japan             </td><td>17</td></tr>\n",
       "\t<tr><td>Russian Federation</td><td>15</td></tr>\n",
       "\t<tr><td>Australia         </td><td>14</td></tr>\n",
       "\t<tr><td>Brazil            </td><td>10</td></tr>\n",
       "</tbody>\n",
       "</table>\n"
      ],
      "text/latex": [
       "A tibble: 10 × 2\n",
       "\\begin{tabular}{ll}\n",
       " Country & count\\\\\n",
       " <chr> & <int>\\\\\n",
       "\\hline\n",
       "\t France             & 37\\\\\n",
       "\t Italy              & 28\\\\\n",
       "\t United States      & 28\\\\\n",
       "\t Spain              & 23\\\\\n",
       "\t Argentina          & 22\\\\\n",
       "\t Germany            & 21\\\\\n",
       "\t Japan              & 17\\\\\n",
       "\t Russian Federation & 15\\\\\n",
       "\t Australia          & 14\\\\\n",
       "\t Brazil             & 10\\\\\n",
       "\\end{tabular}\n"
      ],
      "text/markdown": [
       "\n",
       "A tibble: 10 × 2\n",
       "\n",
       "| Country &lt;chr&gt; | count &lt;int&gt; |\n",
       "|---|---|\n",
       "| France             | 37 |\n",
       "| Italy              | 28 |\n",
       "| United States      | 28 |\n",
       "| Spain              | 23 |\n",
       "| Argentina          | 22 |\n",
       "| Germany            | 21 |\n",
       "| Japan              | 17 |\n",
       "| Russian Federation | 15 |\n",
       "| Australia          | 14 |\n",
       "| Brazil             | 10 |\n",
       "\n"
      ],
      "text/plain": [
       "   Country            count\n",
       "1  France             37   \n",
       "2  Italy              28   \n",
       "3  United States      28   \n",
       "4  Spain              23   \n",
       "5  Argentina          22   \n",
       "6  Germany            21   \n",
       "7  Japan              17   \n",
       "8  Russian Federation 15   \n",
       "9  Australia          14   \n",
       "10 Brazil             10   "
      ]
     },
     "metadata": {},
     "output_type": "display_data"
    }
   ],
   "source": [
    "tennis_data_region <- tennis_train |>\n",
    "    group_by(Country) |>\n",
    "    summarize(count = n()) |> \n",
    "    arrange(desc(count)) |>\n",
    "    slice(1:10) \n",
    "tennis_data_region"
   ]
  },
  {
   "cell_type": "code",
   "execution_count": 16,
   "id": "a297cd86-f59f-4bfe-b554-da6bac089f41",
   "metadata": {},
   "outputs": [
    {
     "data": {
      "text/html": [
       "<table class=\"dataframe\">\n",
       "<caption>A tibble: 1 × 2</caption>\n",
       "<thead>\n",
       "\t<tr><th scope=col>Country</th><th scope=col>Country_Points</th></tr>\n",
       "\t<tr><th scope=col>&lt;chr&gt;</th><th scope=col>&lt;dbl&gt;</th></tr>\n",
       "</thead>\n",
       "<tbody>\n",
       "\t<tr><td>Japan</td><td>5985</td></tr>\n",
       "</tbody>\n",
       "</table>\n"
      ],
      "text/latex": [
       "A tibble: 1 × 2\n",
       "\\begin{tabular}{ll}\n",
       " Country & Country\\_Points\\\\\n",
       " <chr> & <dbl>\\\\\n",
       "\\hline\n",
       "\t Japan & 5985\\\\\n",
       "\\end{tabular}\n"
      ],
      "text/markdown": [
       "\n",
       "A tibble: 1 × 2\n",
       "\n",
       "| Country &lt;chr&gt; | Country_Points &lt;dbl&gt; |\n",
       "|---|---|\n",
       "| Japan | 5985 |\n",
       "\n"
      ],
      "text/plain": [
       "  Country Country_Points\n",
       "1 Japan   5985          "
      ]
     },
     "metadata": {},
     "output_type": "display_data"
    },
    {
     "data": {
      "text/html": [
       "<table class=\"dataframe\">\n",
       "<caption>A tibble: 1 × 2</caption>\n",
       "<thead>\n",
       "\t<tr><th scope=col>Country</th><th scope=col>Country_Points</th></tr>\n",
       "\t<tr><th scope=col>&lt;chr&gt;</th><th scope=col>&lt;dbl&gt;</th></tr>\n",
       "</thead>\n",
       "<tbody>\n",
       "\t<tr><td>France</td><td>17721</td></tr>\n",
       "</tbody>\n",
       "</table>\n"
      ],
      "text/latex": [
       "A tibble: 1 × 2\n",
       "\\begin{tabular}{ll}\n",
       " Country & Country\\_Points\\\\\n",
       " <chr> & <dbl>\\\\\n",
       "\\hline\n",
       "\t France & 17721\\\\\n",
       "\\end{tabular}\n"
      ],
      "text/markdown": [
       "\n",
       "A tibble: 1 × 2\n",
       "\n",
       "| Country &lt;chr&gt; | Country_Points &lt;dbl&gt; |\n",
       "|---|---|\n",
       "| France | 17721 |\n",
       "\n"
      ],
      "text/plain": [
       "  Country Country_Points\n",
       "1 France  17721         "
      ]
     },
     "metadata": {},
     "output_type": "display_data"
    },
    {
     "data": {
      "text/html": [
       "<table class=\"dataframe\">\n",
       "<caption>A tibble: 1 × 2</caption>\n",
       "<thead>\n",
       "\t<tr><th scope=col>Country</th><th scope=col>Country_Points</th></tr>\n",
       "\t<tr><th scope=col>&lt;chr&gt;</th><th scope=col>&lt;dbl&gt;</th></tr>\n",
       "</thead>\n",
       "<tbody>\n",
       "\t<tr><td>United States</td><td>10473</td></tr>\n",
       "</tbody>\n",
       "</table>\n"
      ],
      "text/latex": [
       "A tibble: 1 × 2\n",
       "\\begin{tabular}{ll}\n",
       " Country & Country\\_Points\\\\\n",
       " <chr> & <dbl>\\\\\n",
       "\\hline\n",
       "\t United States & 10473\\\\\n",
       "\\end{tabular}\n"
      ],
      "text/markdown": [
       "\n",
       "A tibble: 1 × 2\n",
       "\n",
       "| Country &lt;chr&gt; | Country_Points &lt;dbl&gt; |\n",
       "|---|---|\n",
       "| United States | 10473 |\n",
       "\n"
      ],
      "text/plain": [
       "  Country       Country_Points\n",
       "1 United States 10473         "
      ]
     },
     "metadata": {},
     "output_type": "display_data"
    },
    {
     "data": {
      "text/html": [
       "<table class=\"dataframe\">\n",
       "<caption>A tibble: 1 × 2</caption>\n",
       "<thead>\n",
       "\t<tr><th scope=col>Country</th><th scope=col>Country_Points</th></tr>\n",
       "\t<tr><th scope=col>&lt;chr&gt;</th><th scope=col>&lt;dbl&gt;</th></tr>\n",
       "</thead>\n",
       "<tbody>\n",
       "\t<tr><td>Italy</td><td>12015</td></tr>\n",
       "</tbody>\n",
       "</table>\n"
      ],
      "text/latex": [
       "A tibble: 1 × 2\n",
       "\\begin{tabular}{ll}\n",
       " Country & Country\\_Points\\\\\n",
       " <chr> & <dbl>\\\\\n",
       "\\hline\n",
       "\t Italy & 12015\\\\\n",
       "\\end{tabular}\n"
      ],
      "text/markdown": [
       "\n",
       "A tibble: 1 × 2\n",
       "\n",
       "| Country &lt;chr&gt; | Country_Points &lt;dbl&gt; |\n",
       "|---|---|\n",
       "| Italy | 12015 |\n",
       "\n"
      ],
      "text/plain": [
       "  Country Country_Points\n",
       "1 Italy   12015         "
      ]
     },
     "metadata": {},
     "output_type": "display_data"
    },
    {
     "data": {
      "text/html": [
       "<table class=\"dataframe\">\n",
       "<caption>A tibble: 1 × 2</caption>\n",
       "<thead>\n",
       "\t<tr><th scope=col>Country</th><th scope=col>Country_Points</th></tr>\n",
       "\t<tr><th scope=col>&lt;chr&gt;</th><th scope=col>&lt;dbl&gt;</th></tr>\n",
       "</thead>\n",
       "<tbody>\n",
       "\t<tr><td>Germany</td><td>9016</td></tr>\n",
       "</tbody>\n",
       "</table>\n"
      ],
      "text/latex": [
       "A tibble: 1 × 2\n",
       "\\begin{tabular}{ll}\n",
       " Country & Country\\_Points\\\\\n",
       " <chr> & <dbl>\\\\\n",
       "\\hline\n",
       "\t Germany & 9016\\\\\n",
       "\\end{tabular}\n"
      ],
      "text/markdown": [
       "\n",
       "A tibble: 1 × 2\n",
       "\n",
       "| Country &lt;chr&gt; | Country_Points &lt;dbl&gt; |\n",
       "|---|---|\n",
       "| Germany | 9016 |\n",
       "\n"
      ],
      "text/plain": [
       "  Country Country_Points\n",
       "1 Germany 9016          "
      ]
     },
     "metadata": {},
     "output_type": "display_data"
    },
    {
     "data": {
      "text/html": [
       "<table class=\"dataframe\">\n",
       "<caption>A tibble: 1 × 2</caption>\n",
       "<thead>\n",
       "\t<tr><th scope=col>Country</th><th scope=col>Country_Points</th></tr>\n",
       "\t<tr><th scope=col>&lt;chr&gt;</th><th scope=col>&lt;dbl&gt;</th></tr>\n",
       "</thead>\n",
       "<tbody>\n",
       "\t<tr><td>Spain</td><td>20938</td></tr>\n",
       "</tbody>\n",
       "</table>\n"
      ],
      "text/latex": [
       "A tibble: 1 × 2\n",
       "\\begin{tabular}{ll}\n",
       " Country & Country\\_Points\\\\\n",
       " <chr> & <dbl>\\\\\n",
       "\\hline\n",
       "\t Spain & 20938\\\\\n",
       "\\end{tabular}\n"
      ],
      "text/markdown": [
       "\n",
       "A tibble: 1 × 2\n",
       "\n",
       "| Country &lt;chr&gt; | Country_Points &lt;dbl&gt; |\n",
       "|---|---|\n",
       "| Spain | 20938 |\n",
       "\n"
      ],
      "text/plain": [
       "  Country Country_Points\n",
       "1 Spain   20938         "
      ]
     },
     "metadata": {},
     "output_type": "display_data"
    },
    {
     "data": {
      "text/html": [
       "<table class=\"dataframe\">\n",
       "<caption>A tibble: 1 × 2</caption>\n",
       "<thead>\n",
       "\t<tr><th scope=col>Country</th><th scope=col>Country_Points</th></tr>\n",
       "\t<tr><th scope=col>&lt;chr&gt;</th><th scope=col>&lt;dbl&gt;</th></tr>\n",
       "</thead>\n",
       "<tbody>\n",
       "\t<tr><td>Australia</td><td>6794</td></tr>\n",
       "</tbody>\n",
       "</table>\n"
      ],
      "text/latex": [
       "A tibble: 1 × 2\n",
       "\\begin{tabular}{ll}\n",
       " Country & Country\\_Points\\\\\n",
       " <chr> & <dbl>\\\\\n",
       "\\hline\n",
       "\t Australia & 6794\\\\\n",
       "\\end{tabular}\n"
      ],
      "text/markdown": [
       "\n",
       "A tibble: 1 × 2\n",
       "\n",
       "| Country &lt;chr&gt; | Country_Points &lt;dbl&gt; |\n",
       "|---|---|\n",
       "| Australia | 6794 |\n",
       "\n"
      ],
      "text/plain": [
       "  Country   Country_Points\n",
       "1 Australia 6794          "
      ]
     },
     "metadata": {},
     "output_type": "display_data"
    },
    {
     "data": {
      "text/html": [
       "<table class=\"dataframe\">\n",
       "<caption>A tibble: 1 × 2</caption>\n",
       "<thead>\n",
       "\t<tr><th scope=col>Country</th><th scope=col>Country_Points</th></tr>\n",
       "\t<tr><th scope=col>&lt;chr&gt;</th><th scope=col>&lt;dbl&gt;</th></tr>\n",
       "</thead>\n",
       "<tbody>\n",
       "\t<tr><td>Argentina</td><td>6677</td></tr>\n",
       "</tbody>\n",
       "</table>\n"
      ],
      "text/latex": [
       "A tibble: 1 × 2\n",
       "\\begin{tabular}{ll}\n",
       " Country & Country\\_Points\\\\\n",
       " <chr> & <dbl>\\\\\n",
       "\\hline\n",
       "\t Argentina & 6677\\\\\n",
       "\\end{tabular}\n"
      ],
      "text/markdown": [
       "\n",
       "A tibble: 1 × 2\n",
       "\n",
       "| Country &lt;chr&gt; | Country_Points &lt;dbl&gt; |\n",
       "|---|---|\n",
       "| Argentina | 6677 |\n",
       "\n"
      ],
      "text/plain": [
       "  Country   Country_Points\n",
       "1 Argentina 6677          "
      ]
     },
     "metadata": {},
     "output_type": "display_data"
    },
    {
     "data": {
      "text/html": [
       "<table class=\"dataframe\">\n",
       "<caption>A tibble: 1 × 2</caption>\n",
       "<thead>\n",
       "\t<tr><th scope=col>Country</th><th scope=col>Country_Points</th></tr>\n",
       "\t<tr><th scope=col>&lt;chr&gt;</th><th scope=col>&lt;dbl&gt;</th></tr>\n",
       "</thead>\n",
       "<tbody>\n",
       "\t<tr><td>Russian Federation</td><td>11447</td></tr>\n",
       "</tbody>\n",
       "</table>\n"
      ],
      "text/latex": [
       "A tibble: 1 × 2\n",
       "\\begin{tabular}{ll}\n",
       " Country & Country\\_Points\\\\\n",
       " <chr> & <dbl>\\\\\n",
       "\\hline\n",
       "\t Russian Federation & 11447\\\\\n",
       "\\end{tabular}\n"
      ],
      "text/markdown": [
       "\n",
       "A tibble: 1 × 2\n",
       "\n",
       "| Country &lt;chr&gt; | Country_Points &lt;dbl&gt; |\n",
       "|---|---|\n",
       "| Russian Federation | 11447 |\n",
       "\n"
      ],
      "text/plain": [
       "  Country            Country_Points\n",
       "1 Russian Federation 11447         "
      ]
     },
     "metadata": {},
     "output_type": "display_data"
    },
    {
     "data": {
      "text/html": [
       "<table class=\"dataframe\">\n",
       "<caption>A tibble: 1 × 2</caption>\n",
       "<thead>\n",
       "\t<tr><th scope=col>Country</th><th scope=col>Country_Points</th></tr>\n",
       "\t<tr><th scope=col>&lt;chr&gt;</th><th scope=col>&lt;dbl&gt;</th></tr>\n",
       "</thead>\n",
       "<tbody>\n",
       "\t<tr><td>Brazil</td><td>1911</td></tr>\n",
       "</tbody>\n",
       "</table>\n"
      ],
      "text/latex": [
       "A tibble: 1 × 2\n",
       "\\begin{tabular}{ll}\n",
       " Country & Country\\_Points\\\\\n",
       " <chr> & <dbl>\\\\\n",
       "\\hline\n",
       "\t Brazil & 1911\\\\\n",
       "\\end{tabular}\n"
      ],
      "text/markdown": [
       "\n",
       "A tibble: 1 × 2\n",
       "\n",
       "| Country &lt;chr&gt; | Country_Points &lt;dbl&gt; |\n",
       "|---|---|\n",
       "| Brazil | 1911 |\n",
       "\n"
      ],
      "text/plain": [
       "  Country Country_Points\n",
       "1 Brazil  1911          "
      ]
     },
     "metadata": {},
     "output_type": "display_data"
    }
   ],
   "source": [
    "total_japan <- tennis_train |>\n",
    "    filter(Country == \"Japan\") |>\n",
    "    mutate(Country_Points = sum(Current_Rank_Points)) |>\n",
    "    select(Country, Country_Points) |>\n",
    "    slice(1) \n",
    "total_japan\n",
    "\n",
    "total_france <- tennis_train |>\n",
    "    filter(Country == \"France\") |>\n",
    "    mutate(Country_Points = sum(Current_Rank_Points)) |>\n",
    "    select(Country, Country_Points) |>\n",
    "    slice(1)\n",
    "total_france\n",
    "\n",
    "total_united_states <- tennis_train |>\n",
    "    filter(Country == \"United States\") |>\n",
    "    mutate(Country_Points = sum(Current_Rank_Points)) |>\n",
    "    select(Country, Country_Points) |>\n",
    "    slice(1)\n",
    "total_united_states\n",
    "\n",
    "total_italy <- tennis_train |>\n",
    "    filter(Country == \"Italy\") |>\n",
    "    mutate(Country_Points = sum(Current_Rank_Points)) |>\n",
    "    select(Country, Country_Points) |>\n",
    "    slice(1)\n",
    "total_italy\n",
    "\n",
    "total_germany <- tennis_train |>\n",
    "    filter(Country == \"Germany\") |>\n",
    "    mutate(Country_Points = sum(Current_Rank_Points)) |>\n",
    "    select(Country, Country_Points) |>\n",
    "    slice(1)\n",
    "total_germany\n",
    "\n",
    "total_spain <- tennis_train |>\n",
    "    filter(Country == \"Spain\") |>\n",
    "    mutate(Country_Points = sum(Current_Rank_Points)) |>\n",
    "    select(Country, Country_Points) |>\n",
    "    slice(1)\n",
    "total_spain\n",
    "\n",
    "total_australia <- tennis_train |>\n",
    "    filter(Country == \"Australia\") |>\n",
    "    mutate(Country_Points = sum(Current_Rank_Points)) |>\n",
    "    select(Country, Country_Points) |>\n",
    "    slice(1)\n",
    "total_australia\n",
    "\n",
    "total_argentina <- tennis_train |>\n",
    "    filter(Country == \"Argentina\") |>\n",
    "    mutate(Country_Points = sum(Current_Rank_Points)) |>\n",
    "    select(Country, Country_Points) |>\n",
    "    slice(1)\n",
    "total_argentina\n",
    "\n",
    "total_russian_federation <- tennis_train |>\n",
    "    filter(Country == \"Russian Federation\") |>\n",
    "    mutate(Country_Points = sum(Current_Rank_Points)) |>\n",
    "    select(Country, Country_Points) |>\n",
    "    slice(1)\n",
    "total_russian_federation\n",
    "\n",
    "total_brazil <- tennis_train |>\n",
    "     filter(Country == \"Brazil\") |>\n",
    "    mutate(Country_Points = sum(Current_Rank_Points)) |>\n",
    "    select(Country, Country_Points) |>\n",
    "    slice(1)\n",
    "total_brazil\n",
    "\n",
    "\n",
    "#total_country_points <- merge(total_japan, total_france, total_brazil, total_russian_federation, total_argentina, total_australia, total_spain, total_germany, total_italy, by=c(\"Country\", \"Country_Points\"))"
   ]
  },
  {
   "cell_type": "code",
   "execution_count": 17,
   "id": "0ebec847-bc95-4346-8eda-75bf83d94f8a",
   "metadata": {},
   "outputs": [
    {
     "data": {
      "text/html": [
       "TRUE"
      ],
      "text/latex": [
       "TRUE"
      ],
      "text/markdown": [
       "TRUE"
      ],
      "text/plain": [
       "[1] TRUE"
      ]
     },
     "metadata": {},
     "output_type": "display_data"
    }
   ],
   "source": [
    "is.data.frame(total_japan)"
   ]
  },
  {
   "cell_type": "code",
   "execution_count": 18,
   "id": "cd4a37e4-9e8b-48d8-9565-18f9a0f28497",
   "metadata": {},
   "outputs": [
    {
     "name": "stderr",
     "output_type": "stream",
     "text": [
      "\u001b[1m\u001b[22mNew names:\n",
      "\u001b[36m•\u001b[39m `Country` -> `Country...1`\n",
      "\u001b[36m•\u001b[39m `Country_Points` -> `Country_Points...2`\n",
      "\u001b[36m•\u001b[39m `Country` -> `Country...3`\n",
      "\u001b[36m•\u001b[39m `Country_Points` -> `Country_Points...4`\n",
      "\u001b[36m•\u001b[39m `Country` -> `Country...5`\n",
      "\u001b[36m•\u001b[39m `Country_Points` -> `Country_Points...6`\n",
      "\u001b[36m•\u001b[39m `Country` -> `Country...7`\n",
      "\u001b[36m•\u001b[39m `Country_Points` -> `Country_Points...8`\n",
      "\u001b[36m•\u001b[39m `Country` -> `Country...9`\n",
      "\u001b[36m•\u001b[39m `Country_Points` -> `Country_Points...10`\n",
      "\u001b[36m•\u001b[39m `Country` -> `Country...11`\n",
      "\u001b[36m•\u001b[39m `Country_Points` -> `Country_Points...12`\n",
      "\u001b[36m•\u001b[39m `Country` -> `Country...13`\n",
      "\u001b[36m•\u001b[39m `Country_Points` -> `Country_Points...14`\n",
      "\u001b[36m•\u001b[39m `Country` -> `Country...15`\n",
      "\u001b[36m•\u001b[39m `Country_Points` -> `Country_Points...16`\n",
      "\u001b[36m•\u001b[39m `Country` -> `Country...17`\n",
      "\u001b[36m•\u001b[39m `Country_Points` -> `Country_Points...18`\n",
      "\u001b[36m•\u001b[39m `Country` -> `Country...19`\n",
      "\u001b[36m•\u001b[39m `Country_Points` -> `Country_Points...20`\n"
     ]
    },
    {
     "data": {
      "text/html": [
       "<table class=\"dataframe\">\n",
       "<caption>A tibble: 1 × 20</caption>\n",
       "<thead>\n",
       "\t<tr><th scope=col>Country...1</th><th scope=col>Country_Points...2</th><th scope=col>Country...3</th><th scope=col>Country_Points...4</th><th scope=col>Country...5</th><th scope=col>Country_Points...6</th><th scope=col>Country...7</th><th scope=col>Country_Points...8</th><th scope=col>Country...9</th><th scope=col>Country_Points...10</th><th scope=col>Country...11</th><th scope=col>Country_Points...12</th><th scope=col>Country...13</th><th scope=col>Country_Points...14</th><th scope=col>Country...15</th><th scope=col>Country_Points...16</th><th scope=col>Country...17</th><th scope=col>Country_Points...18</th><th scope=col>Country...19</th><th scope=col>Country_Points...20</th></tr>\n",
       "\t<tr><th scope=col>&lt;chr&gt;</th><th scope=col>&lt;dbl&gt;</th><th scope=col>&lt;chr&gt;</th><th scope=col>&lt;dbl&gt;</th><th scope=col>&lt;chr&gt;</th><th scope=col>&lt;dbl&gt;</th><th scope=col>&lt;chr&gt;</th><th scope=col>&lt;dbl&gt;</th><th scope=col>&lt;chr&gt;</th><th scope=col>&lt;dbl&gt;</th><th scope=col>&lt;chr&gt;</th><th scope=col>&lt;dbl&gt;</th><th scope=col>&lt;chr&gt;</th><th scope=col>&lt;dbl&gt;</th><th scope=col>&lt;chr&gt;</th><th scope=col>&lt;dbl&gt;</th><th scope=col>&lt;chr&gt;</th><th scope=col>&lt;dbl&gt;</th><th scope=col>&lt;chr&gt;</th><th scope=col>&lt;dbl&gt;</th></tr>\n",
       "</thead>\n",
       "<tbody>\n",
       "\t<tr><td>Japan</td><td>5985</td><td>France</td><td>17721</td><td>Brazil</td><td>1911</td><td>Russian Federation</td><td>11447</td><td>Argentina</td><td>6677</td><td>Australia</td><td>6794</td><td>Spain</td><td>20938</td><td>Germany</td><td>9016</td><td>Italy</td><td>12015</td><td>United States</td><td>10473</td></tr>\n",
       "</tbody>\n",
       "</table>\n"
      ],
      "text/latex": [
       "A tibble: 1 × 20\n",
       "\\begin{tabular}{llllllllllllllllllll}\n",
       " Country...1 & Country\\_Points...2 & Country...3 & Country\\_Points...4 & Country...5 & Country\\_Points...6 & Country...7 & Country\\_Points...8 & Country...9 & Country\\_Points...10 & Country...11 & Country\\_Points...12 & Country...13 & Country\\_Points...14 & Country...15 & Country\\_Points...16 & Country...17 & Country\\_Points...18 & Country...19 & Country\\_Points...20\\\\\n",
       " <chr> & <dbl> & <chr> & <dbl> & <chr> & <dbl> & <chr> & <dbl> & <chr> & <dbl> & <chr> & <dbl> & <chr> & <dbl> & <chr> & <dbl> & <chr> & <dbl> & <chr> & <dbl>\\\\\n",
       "\\hline\n",
       "\t Japan & 5985 & France & 17721 & Brazil & 1911 & Russian Federation & 11447 & Argentina & 6677 & Australia & 6794 & Spain & 20938 & Germany & 9016 & Italy & 12015 & United States & 10473\\\\\n",
       "\\end{tabular}\n"
      ],
      "text/markdown": [
       "\n",
       "A tibble: 1 × 20\n",
       "\n",
       "| Country...1 &lt;chr&gt; | Country_Points...2 &lt;dbl&gt; | Country...3 &lt;chr&gt; | Country_Points...4 &lt;dbl&gt; | Country...5 &lt;chr&gt; | Country_Points...6 &lt;dbl&gt; | Country...7 &lt;chr&gt; | Country_Points...8 &lt;dbl&gt; | Country...9 &lt;chr&gt; | Country_Points...10 &lt;dbl&gt; | Country...11 &lt;chr&gt; | Country_Points...12 &lt;dbl&gt; | Country...13 &lt;chr&gt; | Country_Points...14 &lt;dbl&gt; | Country...15 &lt;chr&gt; | Country_Points...16 &lt;dbl&gt; | Country...17 &lt;chr&gt; | Country_Points...18 &lt;dbl&gt; | Country...19 &lt;chr&gt; | Country_Points...20 &lt;dbl&gt; |\n",
       "|---|---|---|---|---|---|---|---|---|---|---|---|---|---|---|---|---|---|---|---|\n",
       "| Japan | 5985 | France | 17721 | Brazil | 1911 | Russian Federation | 11447 | Argentina | 6677 | Australia | 6794 | Spain | 20938 | Germany | 9016 | Italy | 12015 | United States | 10473 |\n",
       "\n"
      ],
      "text/plain": [
       "  Country...1 Country_Points...2 Country...3 Country_Points...4 Country...5\n",
       "1 Japan       5985               France      17721              Brazil     \n",
       "  Country_Points...6 Country...7        Country_Points...8 Country...9\n",
       "1 1911               Russian Federation 11447              Argentina  \n",
       "  Country_Points...10 Country...11 Country_Points...12 Country...13\n",
       "1 6677                Australia    6794                Spain       \n",
       "  Country_Points...14 Country...15 Country_Points...16 Country...17\n",
       "1 20938               Germany      9016                Italy       \n",
       "  Country_Points...18 Country...19  Country_Points...20\n",
       "1 12015               United States 10473              "
      ]
     },
     "metadata": {},
     "output_type": "display_data"
    }
   ],
   "source": [
    "total_country_points <- bind_cols(total_japan, total_france, \n",
    "                                  total_brazil, total_russian_federation, \n",
    "                                  total_argentina, total_australia,\n",
    "                                  total_spain, total_germany, \n",
    "                                  total_italy, total_united_states)\n",
    "total_country_points"
   ]
  },
  {
   "cell_type": "code",
   "execution_count": null,
   "id": "32863f0d-9243-4d18-ad28-b0e5c55266ce",
   "metadata": {},
   "outputs": [],
   "source": []
  }
 ],
 "metadata": {
  "kernelspec": {
   "display_name": "R",
   "language": "R",
   "name": "ir"
  },
  "language_info": {
   "codemirror_mode": "r",
   "file_extension": ".r",
   "mimetype": "text/x-r-source",
   "name": "R",
   "pygments_lexer": "r",
   "version": "4.3.1"
  }
 },
 "nbformat": 4,
 "nbformat_minor": 5
}
