{
 "cells": [
  {
   "cell_type": "markdown",
   "id": "5dfaebe4-ff7d-4c59-ac8e-57ed10c9ce14",
   "metadata": {},
   "source": [
    "The start of our group project!"
   ]
  },
  {
   "cell_type": "markdown",
   "id": "353b52f1-96d3-41ad-a2d0-b391cac538ea",
   "metadata": {},
   "source": [
    "senond test of add, commit, and push."
   ]
  },
  {
   "cell_type": "code",
   "execution_count": null,
   "id": "e449f1df-a709-4f8b-b3f8-095234308493",
   "metadata": {},
   "outputs": [],
   "source": []
  }
 ],
 "metadata": {
  "kernelspec": {
   "display_name": "R",
   "language": "R",
   "name": "ir"
  },
  "language_info": {
   "codemirror_mode": "r",
   "file_extension": ".r",
   "mimetype": "text/x-r-source",
   "name": "R",
   "pygments_lexer": "r",
   "version": "4.3.1"
  }
 },
 "nbformat": 4,
 "nbformat_minor": 5
}
