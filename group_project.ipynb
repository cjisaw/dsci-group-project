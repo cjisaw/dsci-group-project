{
 "cells": [
  {
   "cell_type": "markdown",
   "id": "5dfaebe4-ff7d-4c59-ac8e-57ed10c9ce14",
   "metadata": {},
   "source": [
    "The start of our group project!"
   ]
  },
  {
   "cell_type": "markdown",
   "id": "353b52f1-96d3-41ad-a2d0-b391cac538ea",
   "metadata": {},
   "source": [
    "senond test of add, commit, and push."
   ]
  },
  {
   "cell_type": "markdown",
   "id": "20ae471b-05ad-4da6-8d1d-90b585a83943",
   "metadata": {},
   "source": [
    "hello testing"
   ]
  },
  {
   "cell_type": "markdown",
   "id": "c308f784-2f5b-447f-8208-04a0440ce5f7",
   "metadata": {},
   "source": [
    "testing for commits"
   ]
  },
  {
   "cell_type": "markdown",
   "id": "f9a2f872-1c16-408b-b11d-52a572fe3e59",
   "metadata": {},
   "source": [
    "testing 2"
   ]
  },
  {
   "cell_type": "code",
   "execution_count": null,
   "id": "59cef45d-df74-4155-ace4-8f89e101d928",
   "metadata": {},
   "outputs": [],
   "source": []
  }
 ],
 "metadata": {
  "kernelspec": {
   "display_name": "R",
   "language": "R",
   "name": "ir"
  },
  "language_info": {
   "codemirror_mode": "r",
   "file_extension": ".r",
   "mimetype": "text/x-r-source",
   "name": "R",
   "pygments_lexer": "r",
   "version": "4.3.1"
  }
 },
 "nbformat": 4,
 "nbformat_minor": 5
}
